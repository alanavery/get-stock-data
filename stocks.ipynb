{
 "cells": [
  {
   "cell_type": "code",
   "execution_count": 16,
   "metadata": {},
   "outputs": [],
   "source": [
    "# Imports\n",
    "from selenium import webdriver\n",
    "from selenium.webdriver.common.keys import Keys\n",
    "from selenium.webdriver.common.action_chains import ActionChains\n",
    "from bs4 import BeautifulSoup\n",
    "import datetime, re, requests, io, time, random, string\n",
    "from credentials import email, password"
   ]
  },
  {
   "cell_type": "code",
   "execution_count": 80,
   "metadata": {},
   "outputs": [],
   "source": [
    "driver = webdriver.Chrome('/Users/alan/Web Development/General Assembly/SEI1019/unit-04/codealong/get-stock-data/chromedriver')\n",
    "time.sleep(3)"
   ]
  },
  {
   "cell_type": "code",
   "execution_count": 81,
   "metadata": {},
   "outputs": [],
   "source": [
    "def sign_in(email=email, password=password):\n",
    "    driver.get('https://wallmine.com')\n",
    "    time.sleep(2)\n",
    "    driver.find_element_by_xpath('/html/body/main/header/div/ul/li[1]/ul/li[3]/a').click()\n",
    "    time.sleep(2)\n",
    "    driver.find_element_by_xpath('//*[@id=\"new_user\"]/div[5]/div[1]/div[2]/a').click()\n",
    "    time.sleep(0.1)\n",
    "    if 'We\\'re glad you\\'re back!' in driver.page_source:\n",
    "        print('On sign-in page.')\n",
    "        driver.find_element_by_xpath('//*[@id=\"user_email\"]').send_keys(email)\n",
    "        driver.find_element_by_xpath('//*[@id=\"user_password\"]').send_keys(password)\n",
    "        time.sleep(0.1)\n",
    "        driver.find_element_by_xpath('//*[@id=\"new_user\"]/div[5]/div[2]/div[1]/button').click()\n",
    "        time.sleep(3)\n",
    "        if 'Stock market overview' in driver.page_source:\n",
    "            print('Sign-in successful.')\n",
    "    else:\n",
    "        print('Restart app.')"
   ]
  },
  {
   "cell_type": "code",
   "execution_count": 82,
   "metadata": {},
   "outputs": [
    {
     "output_type": "stream",
     "name": "stdout",
     "text": [
      "On sign-in page.\n",
      "Sign-in successful.\n"
     ]
    }
   ],
   "source": [
    "sign_in(email, password)"
   ]
  },
  {
   "cell_type": "code",
   "execution_count": 25,
   "metadata": {},
   "outputs": [],
   "source": [
    "stock_list = [\n",
    "  {'stock_ticker': 'AAPL', 'exchange': 'NASDAQ'},\n",
    "  {'stock_ticker': 'MSFT', 'exchange': 'NASDAQ'},\n",
    "  {'stock_ticker': 'AMZN', 'exchange': 'NASDAQ'},\n",
    "  {'stock_ticker': 'GOOG', 'exchange': 'NASDAQ'},\n",
    "  {'stock_ticker': 'GOOGL', 'exchange': 'NASDAQ'},\n",
    "  {'stock_ticker': 'FB', 'exchange': 'NASDAQ'},\n",
    "  {'stock_ticker': 'BABA', 'exchange': 'NYSE'},\n",
    "  {'stock_ticker': 'TSLA', 'exchange': 'NASDAQ'},\n",
    "  {'stock_ticker': 'BRK-A', 'exchange': 'NYSE'},\n",
    "  {'stock_ticker': 'BRK-B', 'exchange': 'NYSE'},\n",
    "  {'stock_ticker': 'TSM', 'exchange': 'NYSE'},\n",
    "  {'stock_ticker': 'V', 'exchange': 'NYSE'},\n",
    "  {'stock_ticker': 'WMT', 'exchange': 'NYSE'},\n",
    "  {'stock_ticker': 'JNJ', 'exchange': 'NYSE'},\n",
    "  {'stock_ticker': 'JPM', 'exchange': 'NYSE'},\n",
    "  {'stock_ticker': 'MA', 'exchange': 'NYSE'},\n",
    "  {'stock_ticker': 'PG', 'exchange': 'NYSE'},\n",
    "  {'stock_ticker': 'UNH', 'exchange': 'NYSE'},\n",
    "  {'stock_ticker': 'NVDA', 'exchange': 'NASDAQ'},\n",
    "  {'stock_ticker': 'DIS', 'exchange': 'NYSE'},\n",
    "  {'stock_ticker': 'HD', 'exchange': 'NYSE'},\n",
    "  {'stock_ticker': 'BAC', 'exchange': 'NYSE'},\n",
    "  {'stock_ticker': 'VZ', 'exchange': 'NYSE'},\n",
    "  {'stock_ticker': 'PYPL', 'exchange': 'NASDAQ'},\n",
    "  {'stock_ticker': 'CMCSA', 'exchange': 'NASDAQ'},\n",
    "  {'stock_ticker': 'INTC', 'exchange': 'NASDAQ'},\n",
    "  {'stock_ticker': 'KO', 'exchange': 'NYSE'},\n",
    "  {'stock_ticker': 'PFE', 'exchange': 'NYSE'},\n",
    "  {'stock_ticker': 'NFLX', 'exchange': 'NASDAQ'},\n",
    "  {'stock_ticker': 'T', 'exchange': 'NYSE'},\n",
    "  {'stock_ticker': 'ADBE', 'exchange': 'NASDAQ'},\n",
    "  {'stock_ticker': 'PDD', 'exchange': 'NASDAQ'},\n",
    "  {'stock_ticker': 'NKE', 'exchange': 'NYSE'},\n",
    "  {'stock_ticker': 'MPNGY', 'exchange': 'NYSEMKT'},\n",
    "  {'stock_ticker': 'MPNGY', 'exchange': 'NASDAQ'},\n",
    "  {'stock_ticker': 'TM', 'exchange': 'NYSE'},\n",
    "  {'stock_ticker': 'MRK', 'exchange': 'NYSE'},\n",
    "  {'stock_ticker': 'NVS', 'exchange': 'NYSE'},\n",
    "  {'stock_ticker': 'CRM', 'exchange': 'NYSE'},\n",
    "  {'stock_ticker': 'XOM', 'exchange': 'NYSE'},\n",
    "  {'stock_ticker': 'ABT', 'exchange': 'NYSE'},\n",
    "  {'stock_ticker': 'CSCO', 'exchange': 'NASDAQ'},\n",
    "  {'stock_ticker': 'ASML', 'exchange': 'NASDAQ'},\n",
    "  {'stock_ticker': 'ABBV', 'exchange': 'NYSE'},\n",
    "  {'stock_ticker': 'TMO', 'exchange': 'NYSE'},\n",
    "  {'stock_ticker': 'PEP', 'exchange': 'NASDAQ'},\n",
    "  {'stock_ticker': 'ORCL', 'exchange': 'NYSE'},\n",
    "  {'stock_ticker': 'CVX', 'exchange': 'NYSE'},\n",
    "  {'stock_ticker': 'PROSY', 'exchange': 'NYSEMKT'},\n",
    "  {'stock_ticker': 'QCOM', 'exchange': 'NASDAQ'},\n",
    "]"
   ]
  },
  {
   "cell_type": "code",
   "execution_count": null,
   "metadata": {},
   "outputs": [],
   "source": [
    "def change_to_float(xpath):\n",
    "    if xpath:\n",
    "        string = driver.find_element_by_xpath(xpath).text\n",
    "        elif string[0] == '$':\n",
    "            if string[-1] == 'T':\n",
    "                return float(string[1:-1]) * 1000000000000\n",
    "            elif string[-1] == 'B':\n",
    "                return float(string[1:-1]) * 1000000000\n",
    "            elif string[-1] == 'M':\n",
    "                return float(string[1:-1]) * 1000000\n",
    "        else:\n",
    "            if string[-1] == 'T':\n",
    "                return float(string[:-1]) * 1000000000000\n",
    "            elif string[-1] == 'B':\n",
    "                return float(string[:-1]) * 1000000000\n",
    "            elif string[-1] == 'M':\n",
    "                return float(string[:-1]) * 1000000\n",
    "    else:\n",
    "        return 'N/A'\n"
   ]
  },
  {
   "cell_type": "code",
   "execution_count": 86,
   "metadata": {},
   "outputs": [],
   "source": [
    "def get_data(stock_list):\n",
    "    for i in range(len(stock_list)):\n",
    "        stock = stock_list[i]\n",
    "        print(f'{i}: {stock.get(\"stock_ticker\")}, exchange: {stock.get(\"exchange\")}')\n",
    "        driver.get(f'https://wallmine.com/{stock.get(\"exchange\")}/{stock.get(\"stock_ticker\")}')\n",
    "        time.sleep(3)\n",
    "        company_name = driver.find_element_by_xpath('/html/body/main/section/div[2]/div/div[1]/h1/div[2]/a').text\n",
    "        current_price = driver.find_element_by_xpath('/html/body/main/section/div[3]/div/div/div/div/div[2]/div/div[1]/span[1]').text\n",
    "        percentage = driver.find_element_by_xpath('/html/body/main/section/div[3]/div/div/div/div/div[2]/div/div[2]/div').text\n",
    "        price_movement = True\n",
    "        if driver.find_elements_by_class_name('badge.badge-success'):\n",
    "            price_up = driver.find_elements_by_class_name('badge.badge-success')[0].text\n",
    "            if price_up == percentage:\n",
    "                print('Price is going up.')\n",
    "        elif driver.find_elements_by_class_name('badge.badge-danger'):\n",
    "            price_down = driver.find_elements_by_class_name('badge.badge-danger')[0].text\n",
    "            if price_down == percentage:\n",
    "                price_movement = False\n",
    "                print('Price is going down.')\n",
    "        amount_changed = float(driver.find_element_by_xpath('/html/body/main/section/div[3]/div/div/div/div/div[2]/div/div[1]/span[2]').text[1:])\n",
    "        market_cap = change_to_float('/html/body/main/section/div[4]/div[1]/div[2]/div[1]/div[1]/table/tbody/tr[1]/td/span')\n",
    "        enterprise_value = change_to_float('/html/body/main/section/div[4]/div[1]/div[2]/div[1]/div[1]/table/tbody/tr[2]/td/span')\n",
    "        revenue = change_to_float('/html/body/main/section/div[4]/div[1]/div[2]/div[1]/div[2]/table/tbody/tr[1]/td/span')\n",
    "        ebitda = change_to_float('/html/body/main/section/div[4]/div[1]/div[2]/div[1]/div[2]/table/tbody/tr[2]/td/span')\n",
    "        income = change_to_float('/html/body/main/section/div[4]/div[1]/div[2]/div[1]/div[2]/table/tbody/tr[3]/td/span')\n",
    "        volume_values = driver.find_element_by_xpath('/html/body/main/section/div[4]/div[1]/div[2]/div[2]/div[1]/table/tbody/tr[1]/td').text.split(' / ')\n",
    "        volume_purchased = change_to_float(volume_values[0])\n",
    "        volume_outstanding = change_to_float(volume_values[1])\n",
    "        stock_object = {\n",
    "            'company_name': company_name,\n",
    "            'current_price': current_price,\n",
    "            'percentage': percentage,\n",
    "            'price_movement': price_movement,\n",
    "            'amount_changed': amount_changed,\n",
    "            'market_cap': market_cap,\n",
    "            'enterprise_value': enterprise_value,\n",
    "            'revenue': revenue,\n",
    "            'ebitda': ebitda,\n",
    "            'income': income,\n",
    "            'volume_purchased': volume_purchased,\n",
    "            'volume_outstanding': volume_outstanding\n",
    "        }\n",
    "        print('Here\\'s the object:')\n",
    "        print(stock_object)"
   ]
  },
  {
   "cell_type": "code",
   "execution_count": 89,
   "metadata": {},
   "outputs": [
    {
     "output_type": "stream",
     "name": "stdout",
     "text": [
      "0: AAPL, exchange: NASDAQ\n",
      "Price is going up.\n",
      "Here's the object:\n",
      "{'company_name': 'Apple Inc', 'current_price': '$127.83', 'percentage': '0.54%', 'price_movement': True, 'amount_changed': 0.69, 'market_cap': None, 'enterprise_value': None, 'revenue': 274515000000.0, 'ebitda': 77344000000.0, 'income': 57411000000.0, 'volume_purchased': 85222000.0, 'volume_outstanding': 99692000.0}\n",
      "1: MSFT, exchange: NASDAQ\n",
      "Price is going up.\n",
      "Here's the object:\n",
      "{'company_name': 'Microsoft Corporation', 'current_price': '$216.44', 'percentage': '1.78%', 'price_movement': True, 'amount_changed': 3.79, 'market_cap': None, 'enterprise_value': None, 'revenue': 147114000000.0, 'ebitda': 55823000000.0, 'income': 47496000000.0, 'volume_purchased': 25207000.0, 'volume_outstanding': 24952000.0}\n",
      "2: AMZN, exchange: NASDAQ\n",
      "Price is going up.\n",
      "Here's the object:\n",
      "{'company_name': 'Amazon.com Inc.', 'current_price': '$3,135.00', 'percentage': '0.99%', 'price_movement': True, 'amount_changed': 30.75, 'market_cap': None, 'enterprise_value': None, 'revenue': 347945000000.0, 'ebitda': 31875000000.0, 'income': 17377000000.0, 'volume_purchased': None, 'volume_outstanding': 3671000.0}\n",
      "3: GOOG, exchange: NASDAQ\n",
      "Price is going up.\n"
     ]
    },
    {
     "output_type": "error",
     "ename": "NoSuchElementException",
     "evalue": "Message: no such element: Unable to locate element: {\"method\":\"xpath\",\"selector\":\"/html/body/main/section/div[4]/div[1]/div[2]/div[1]/div[1]/table/tbody/tr[2]/td/span\"}\n  (Session info: chrome=87.0.4280.141)\n",
     "traceback": [
      "\u001b[0;31m---------------------------------------------------------------------------\u001b[0m",
      "\u001b[0;31mNoSuchElementException\u001b[0m                    Traceback (most recent call last)",
      "\u001b[0;32m<ipython-input-89-e0f7048f817f>\u001b[0m in \u001b[0;36m<module>\u001b[0;34m\u001b[0m\n\u001b[0;32m----> 1\u001b[0;31m \u001b[0mget_data\u001b[0m\u001b[0;34m(\u001b[0m\u001b[0mstock_list\u001b[0m\u001b[0;34m)\u001b[0m\u001b[0;34m\u001b[0m\u001b[0;34m\u001b[0m\u001b[0m\n\u001b[0m",
      "\u001b[0;32m<ipython-input-86-c07394a8f051>\u001b[0m in \u001b[0;36mget_data\u001b[0;34m(stock_list)\u001b[0m\n\u001b[1;32m     20\u001b[0m         \u001b[0mamount_changed\u001b[0m \u001b[0;34m=\u001b[0m \u001b[0mfloat\u001b[0m\u001b[0;34m(\u001b[0m\u001b[0mdriver\u001b[0m\u001b[0;34m.\u001b[0m\u001b[0mfind_element_by_xpath\u001b[0m\u001b[0;34m(\u001b[0m\u001b[0;34m'/html/body/main/section/div[3]/div/div/div/div/div[2]/div/div[1]/span[2]'\u001b[0m\u001b[0;34m)\u001b[0m\u001b[0;34m.\u001b[0m\u001b[0mtext\u001b[0m\u001b[0;34m[\u001b[0m\u001b[0;36m1\u001b[0m\u001b[0;34m:\u001b[0m\u001b[0;34m]\u001b[0m\u001b[0;34m)\u001b[0m\u001b[0;34m\u001b[0m\u001b[0;34m\u001b[0m\u001b[0m\n\u001b[1;32m     21\u001b[0m         \u001b[0mmarket_cap\u001b[0m \u001b[0;34m=\u001b[0m \u001b[0mchange_to_float\u001b[0m\u001b[0;34m(\u001b[0m\u001b[0mdriver\u001b[0m\u001b[0;34m.\u001b[0m\u001b[0mfind_element_by_xpath\u001b[0m\u001b[0;34m(\u001b[0m\u001b[0;34m'/html/body/main/section/div[4]/div[1]/div[2]/div[1]/div[1]/table/tbody/tr[1]/td/span'\u001b[0m\u001b[0;34m)\u001b[0m\u001b[0;34m.\u001b[0m\u001b[0mtext\u001b[0m\u001b[0;34m)\u001b[0m\u001b[0;34m\u001b[0m\u001b[0;34m\u001b[0m\u001b[0m\n\u001b[0;32m---> 22\u001b[0;31m         \u001b[0menterprise_value\u001b[0m \u001b[0;34m=\u001b[0m \u001b[0mchange_to_float\u001b[0m\u001b[0;34m(\u001b[0m\u001b[0mdriver\u001b[0m\u001b[0;34m.\u001b[0m\u001b[0mfind_element_by_xpath\u001b[0m\u001b[0;34m(\u001b[0m\u001b[0;34m'/html/body/main/section/div[4]/div[1]/div[2]/div[1]/div[1]/table/tbody/tr[2]/td/span'\u001b[0m\u001b[0;34m)\u001b[0m\u001b[0;34m.\u001b[0m\u001b[0mtext\u001b[0m\u001b[0;34m)\u001b[0m\u001b[0;34m\u001b[0m\u001b[0;34m\u001b[0m\u001b[0m\n\u001b[0m\u001b[1;32m     23\u001b[0m         \u001b[0mrevenue\u001b[0m \u001b[0;34m=\u001b[0m \u001b[0mchange_to_float\u001b[0m\u001b[0;34m(\u001b[0m\u001b[0mdriver\u001b[0m\u001b[0;34m.\u001b[0m\u001b[0mfind_element_by_xpath\u001b[0m\u001b[0;34m(\u001b[0m\u001b[0;34m'/html/body/main/section/div[4]/div[1]/div[2]/div[1]/div[2]/table/tbody/tr[1]/td/span'\u001b[0m\u001b[0;34m)\u001b[0m\u001b[0;34m.\u001b[0m\u001b[0mtext\u001b[0m\u001b[0;34m)\u001b[0m\u001b[0;34m\u001b[0m\u001b[0;34m\u001b[0m\u001b[0m\n\u001b[1;32m     24\u001b[0m         \u001b[0mebitda\u001b[0m \u001b[0;34m=\u001b[0m \u001b[0mchange_to_float\u001b[0m\u001b[0;34m(\u001b[0m\u001b[0mdriver\u001b[0m\u001b[0;34m.\u001b[0m\u001b[0mfind_element_by_xpath\u001b[0m\u001b[0;34m(\u001b[0m\u001b[0;34m'/html/body/main/section/div[4]/div[1]/div[2]/div[1]/div[2]/table/tbody/tr[2]/td/span'\u001b[0m\u001b[0;34m)\u001b[0m\u001b[0;34m.\u001b[0m\u001b[0mtext\u001b[0m\u001b[0;34m)\u001b[0m\u001b[0;34m\u001b[0m\u001b[0;34m\u001b[0m\u001b[0m\n",
      "\u001b[0;32m/Library/Frameworks/Python.framework/Versions/3.9/lib/python3.9/site-packages/selenium/webdriver/remote/webdriver.py\u001b[0m in \u001b[0;36mfind_element_by_xpath\u001b[0;34m(self, xpath)\u001b[0m\n\u001b[1;32m    392\u001b[0m             \u001b[0melement\u001b[0m \u001b[0;34m=\u001b[0m \u001b[0mdriver\u001b[0m\u001b[0;34m.\u001b[0m\u001b[0mfind_element_by_xpath\u001b[0m\u001b[0;34m(\u001b[0m\u001b[0;34m'//div/td[1]'\u001b[0m\u001b[0;34m)\u001b[0m\u001b[0;34m\u001b[0m\u001b[0;34m\u001b[0m\u001b[0m\n\u001b[1;32m    393\u001b[0m         \"\"\"\n\u001b[0;32m--> 394\u001b[0;31m         \u001b[0;32mreturn\u001b[0m \u001b[0mself\u001b[0m\u001b[0;34m.\u001b[0m\u001b[0mfind_element\u001b[0m\u001b[0;34m(\u001b[0m\u001b[0mby\u001b[0m\u001b[0;34m=\u001b[0m\u001b[0mBy\u001b[0m\u001b[0;34m.\u001b[0m\u001b[0mXPATH\u001b[0m\u001b[0;34m,\u001b[0m \u001b[0mvalue\u001b[0m\u001b[0;34m=\u001b[0m\u001b[0mxpath\u001b[0m\u001b[0;34m)\u001b[0m\u001b[0;34m\u001b[0m\u001b[0;34m\u001b[0m\u001b[0m\n\u001b[0m\u001b[1;32m    395\u001b[0m \u001b[0;34m\u001b[0m\u001b[0m\n\u001b[1;32m    396\u001b[0m     \u001b[0;32mdef\u001b[0m \u001b[0mfind_elements_by_xpath\u001b[0m\u001b[0;34m(\u001b[0m\u001b[0mself\u001b[0m\u001b[0;34m,\u001b[0m \u001b[0mxpath\u001b[0m\u001b[0;34m)\u001b[0m\u001b[0;34m:\u001b[0m\u001b[0;34m\u001b[0m\u001b[0;34m\u001b[0m\u001b[0m\n",
      "\u001b[0;32m/Library/Frameworks/Python.framework/Versions/3.9/lib/python3.9/site-packages/selenium/webdriver/remote/webdriver.py\u001b[0m in \u001b[0;36mfind_element\u001b[0;34m(self, by, value)\u001b[0m\n\u001b[1;32m    974\u001b[0m                 \u001b[0mby\u001b[0m \u001b[0;34m=\u001b[0m \u001b[0mBy\u001b[0m\u001b[0;34m.\u001b[0m\u001b[0mCSS_SELECTOR\u001b[0m\u001b[0;34m\u001b[0m\u001b[0;34m\u001b[0m\u001b[0m\n\u001b[1;32m    975\u001b[0m                 \u001b[0mvalue\u001b[0m \u001b[0;34m=\u001b[0m \u001b[0;34m'[name=\"%s\"]'\u001b[0m \u001b[0;34m%\u001b[0m \u001b[0mvalue\u001b[0m\u001b[0;34m\u001b[0m\u001b[0;34m\u001b[0m\u001b[0m\n\u001b[0;32m--> 976\u001b[0;31m         return self.execute(Command.FIND_ELEMENT, {\n\u001b[0m\u001b[1;32m    977\u001b[0m             \u001b[0;34m'using'\u001b[0m\u001b[0;34m:\u001b[0m \u001b[0mby\u001b[0m\u001b[0;34m,\u001b[0m\u001b[0;34m\u001b[0m\u001b[0;34m\u001b[0m\u001b[0m\n\u001b[1;32m    978\u001b[0m             'value': value})['value']\n",
      "\u001b[0;32m/Library/Frameworks/Python.framework/Versions/3.9/lib/python3.9/site-packages/selenium/webdriver/remote/webdriver.py\u001b[0m in \u001b[0;36mexecute\u001b[0;34m(self, driver_command, params)\u001b[0m\n\u001b[1;32m    319\u001b[0m         \u001b[0mresponse\u001b[0m \u001b[0;34m=\u001b[0m \u001b[0mself\u001b[0m\u001b[0;34m.\u001b[0m\u001b[0mcommand_executor\u001b[0m\u001b[0;34m.\u001b[0m\u001b[0mexecute\u001b[0m\u001b[0;34m(\u001b[0m\u001b[0mdriver_command\u001b[0m\u001b[0;34m,\u001b[0m \u001b[0mparams\u001b[0m\u001b[0;34m)\u001b[0m\u001b[0;34m\u001b[0m\u001b[0;34m\u001b[0m\u001b[0m\n\u001b[1;32m    320\u001b[0m         \u001b[0;32mif\u001b[0m \u001b[0mresponse\u001b[0m\u001b[0;34m:\u001b[0m\u001b[0;34m\u001b[0m\u001b[0;34m\u001b[0m\u001b[0m\n\u001b[0;32m--> 321\u001b[0;31m             \u001b[0mself\u001b[0m\u001b[0;34m.\u001b[0m\u001b[0merror_handler\u001b[0m\u001b[0;34m.\u001b[0m\u001b[0mcheck_response\u001b[0m\u001b[0;34m(\u001b[0m\u001b[0mresponse\u001b[0m\u001b[0;34m)\u001b[0m\u001b[0;34m\u001b[0m\u001b[0;34m\u001b[0m\u001b[0m\n\u001b[0m\u001b[1;32m    322\u001b[0m             response['value'] = self._unwrap_value(\n\u001b[1;32m    323\u001b[0m                 response.get('value', None))\n",
      "\u001b[0;32m/Library/Frameworks/Python.framework/Versions/3.9/lib/python3.9/site-packages/selenium/webdriver/remote/errorhandler.py\u001b[0m in \u001b[0;36mcheck_response\u001b[0;34m(self, response)\u001b[0m\n\u001b[1;32m    240\u001b[0m                 \u001b[0malert_text\u001b[0m \u001b[0;34m=\u001b[0m \u001b[0mvalue\u001b[0m\u001b[0;34m[\u001b[0m\u001b[0;34m'alert'\u001b[0m\u001b[0;34m]\u001b[0m\u001b[0;34m.\u001b[0m\u001b[0mget\u001b[0m\u001b[0;34m(\u001b[0m\u001b[0;34m'text'\u001b[0m\u001b[0;34m)\u001b[0m\u001b[0;34m\u001b[0m\u001b[0;34m\u001b[0m\u001b[0m\n\u001b[1;32m    241\u001b[0m             \u001b[0;32mraise\u001b[0m \u001b[0mexception_class\u001b[0m\u001b[0;34m(\u001b[0m\u001b[0mmessage\u001b[0m\u001b[0;34m,\u001b[0m \u001b[0mscreen\u001b[0m\u001b[0;34m,\u001b[0m \u001b[0mstacktrace\u001b[0m\u001b[0;34m,\u001b[0m \u001b[0malert_text\u001b[0m\u001b[0;34m)\u001b[0m\u001b[0;34m\u001b[0m\u001b[0;34m\u001b[0m\u001b[0m\n\u001b[0;32m--> 242\u001b[0;31m         \u001b[0;32mraise\u001b[0m \u001b[0mexception_class\u001b[0m\u001b[0;34m(\u001b[0m\u001b[0mmessage\u001b[0m\u001b[0;34m,\u001b[0m \u001b[0mscreen\u001b[0m\u001b[0;34m,\u001b[0m \u001b[0mstacktrace\u001b[0m\u001b[0;34m)\u001b[0m\u001b[0;34m\u001b[0m\u001b[0;34m\u001b[0m\u001b[0m\n\u001b[0m\u001b[1;32m    243\u001b[0m \u001b[0;34m\u001b[0m\u001b[0m\n\u001b[1;32m    244\u001b[0m     \u001b[0;32mdef\u001b[0m \u001b[0m_value_or_default\u001b[0m\u001b[0;34m(\u001b[0m\u001b[0mself\u001b[0m\u001b[0;34m,\u001b[0m \u001b[0mobj\u001b[0m\u001b[0;34m,\u001b[0m \u001b[0mkey\u001b[0m\u001b[0;34m,\u001b[0m \u001b[0mdefault\u001b[0m\u001b[0;34m)\u001b[0m\u001b[0;34m:\u001b[0m\u001b[0;34m\u001b[0m\u001b[0;34m\u001b[0m\u001b[0m\n",
      "\u001b[0;31mNoSuchElementException\u001b[0m: Message: no such element: Unable to locate element: {\"method\":\"xpath\",\"selector\":\"/html/body/main/section/div[4]/div[1]/div[2]/div[1]/div[1]/table/tbody/tr[2]/td/span\"}\n  (Session info: chrome=87.0.4280.141)\n"
     ]
    }
   ],
   "source": [
    "get_data(stock_list)"
   ]
  },
  {
   "cell_type": "code",
   "execution_count": 78,
   "metadata": {},
   "outputs": [
    {
     "output_type": "stream",
     "name": "stdout",
     "text": [
      "Price is going up.\n"
     ]
    },
    {
     "output_type": "execute_result",
     "data": {
      "text/plain": [
       "(5587000.0, 6164000.0)"
      ]
     },
     "metadata": {},
     "execution_count": 78
    }
   ],
   "source": [
    "def change_to_float(string):\n",
    "    if string[0] == '$':\n",
    "        if string[-1] == 'B':\n",
    "            return float(string[1:-1]) * 1000000000\n",
    "        elif string[-1] == 'M':\n",
    "            return float(string[1:-1]) * 1000000\n",
    "    else:\n",
    "        if string[-1] == 'B':\n",
    "            return float(string[:-1]) * 1000000000\n",
    "        elif string[-1] == 'M':\n",
    "            return float(string[:-1]) * 1000000\n",
    "\n",
    "company_name = driver.find_element_by_xpath('/html/body/main/section/div[2]/div/div[1]/h1/div[2]/a').text\n",
    "current_price = driver.find_element_by_xpath('/html/body/main/section/div[3]/div/div/div/div/div[2]/div/div[1]/span[1]').text\n",
    "percentage = driver.find_element_by_xpath('/html/body/main/section/div[3]/div/div/div/div/div[2]/div/div[2]/div').text\n",
    "price_movement = True\n",
    "if driver.find_elements_by_class_name('badge.badge-success'):\n",
    "    price_up = driver.find_elements_by_class_name('badge.badge-success')[0].text\n",
    "    if price_up == percentage:\n",
    "        print('Price is going up.')\n",
    "elif driver.find_elements_by_class_name('badge.badge-danger'):\n",
    "    price_down = driver.find_elements_by_class_name('badge.badge-danger')[0].text\n",
    "    if price_down == percentage:\n",
    "        price_movement = False\n",
    "        print('Price is going down.')\n",
    "amount_changed = float(driver.find_element_by_xpath('/html/body/main/section/div[3]/div/div/div/div/div[2]/div/div[1]/span[2]').text[1:])\n",
    "market_cap = change_to_float(driver.find_element_by_xpath('/html/body/main/section/div[4]/div[1]/div[2]/div[1]/div[1]/table/tbody/tr[1]/td/span').text)\n",
    "enterprise_value = change_to_float(driver.find_element_by_xpath('/html/body/main/section/div[4]/div[1]/div[2]/div[1]/div[1]/table/tbody/tr[2]/td/span').text)\n",
    "revenue = change_to_float(driver.find_element_by_xpath('/html/body/main/section/div[4]/div[1]/div[2]/div[1]/div[2]/table/tbody/tr[1]/td/span').text)\n",
    "ebitda = change_to_float(driver.find_element_by_xpath('/html/body/main/section/div[4]/div[1]/div[2]/div[1]/div[2]/table/tbody/tr[2]/td/span').text)\n",
    "income = change_to_float(driver.find_element_by_xpath('/html/body/main/section/div[4]/div[1]/div[2]/div[1]/div[2]/table/tbody/tr[3]/td/span').text)\n",
    "volume_values = driver.find_element_by_xpath('/html/body/main/section/div[4]/div[1]/div[2]/div[2]/div[1]/table/tbody/tr[1]/td').text.split(' / ')\n",
    "volume_purchased = change_to_float(volume_values[0])\n",
    "volume_outstanding = change_to_float(volume_values[1])\n",
    "volume_purchased, volume_outstanding"
   ]
  },
  {
   "cell_type": "code",
   "execution_count": 79,
   "metadata": {},
   "outputs": [
    {
     "output_type": "execute_result",
     "data": {
      "text/plain": [
       "{'company_name': 'NetFlix Inc',\n",
       " 'current_price': '$501.87',\n",
       " 'percentage': '0.78%',\n",
       " 'price_movement': True,\n",
       " 'amount_changed': 3.89,\n",
       " 'market_cap': 227070000000.0,\n",
       " 'enterprise_value': 241320000000.0,\n",
       " 'revenue': 23819000000.0,\n",
       " 'ebitda': 9182000000.0,\n",
       " 'income': 2806000000.0,\n",
       " 'volume_purchased': 5587000.0,\n",
       " 'volume_outstanding': 6164000.0}"
      ]
     },
     "metadata": {},
     "execution_count": 79
    }
   ],
   "source": [
    "stock_object = {\n",
    "    'company_name': company_name,\n",
    "    'current_price': current_price,\n",
    "    'percentage': percentage,\n",
    "    'price_movement': price_movement,\n",
    "    'amount_changed': amount_changed,\n",
    "    'market_cap': market_cap,\n",
    "    'enterprise_value': enterprise_value,\n",
    "    'revenue': revenue,\n",
    "    'ebitda': ebitda,\n",
    "    'income': income,\n",
    "    'volume_purchased': volume_purchased,\n",
    "    'volume_outstanding': volume_outstanding\n",
    "}\n",
    "stock_object"
   ]
  },
  {
   "cell_type": "code",
   "execution_count": null,
   "metadata": {},
   "outputs": [],
   "source": []
  }
 ],
 "metadata": {
  "kernelspec": {
   "display_name": "Python 3",
   "language": "python",
   "name": "python3"
  },
  "language_info": {
   "codemirror_mode": {
    "name": "ipython",
    "version": 3
   },
   "file_extension": ".py",
   "mimetype": "text/x-python",
   "name": "python",
   "nbconvert_exporter": "python",
   "pygments_lexer": "ipython3",
   "version": "3.9.1-final"
  }
 },
 "nbformat": 4,
 "nbformat_minor": 4
}